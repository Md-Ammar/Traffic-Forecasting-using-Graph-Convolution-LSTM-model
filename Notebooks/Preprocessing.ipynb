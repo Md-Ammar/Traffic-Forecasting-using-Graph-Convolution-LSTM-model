{
 "cells": [
  {
   "cell_type": "code",
   "execution_count": 1,
   "id": "3a238ef3",
   "metadata": {},
   "outputs": [],
   "source": [
    "import numpy as np\n",
    "import pandas as pd"
   ]
  },
  {
   "cell_type": "code",
   "execution_count": 2,
   "id": "b5af33e8",
   "metadata": {},
   "outputs": [
    {
     "ename": "FileNotFoundError",
     "evalue": "[Errno 2] No such file or directory: 'PEMS_04/pems04.npz'",
     "output_type": "error",
     "traceback": [
      "\u001b[1;31m---------------------------------------------------------------------------\u001b[0m",
      "\u001b[1;31mFileNotFoundError\u001b[0m                         Traceback (most recent call last)",
      "Cell \u001b[1;32mIn[2], line 1\u001b[0m\n\u001b[1;32m----> 1\u001b[0m npz \u001b[38;5;241m=\u001b[39m \u001b[43mnp\u001b[49m\u001b[38;5;241;43m.\u001b[39;49m\u001b[43mload\u001b[49m\u001b[43m(\u001b[49m\u001b[38;5;124;43m'\u001b[39;49m\u001b[38;5;124;43mPEMS_04/pems04.npz\u001b[39;49m\u001b[38;5;124;43m'\u001b[39;49m\u001b[43m)\u001b[49m\n",
      "File \u001b[1;32md:\\JetBrains\\PyCharm Community Edition 2022.1\\Enviroments\\MachineLearning\\lib\\site-packages\\numpy\\lib\\npyio.py:427\u001b[0m, in \u001b[0;36mload\u001b[1;34m(file, mmap_mode, allow_pickle, fix_imports, encoding, max_header_size)\u001b[0m\n\u001b[0;32m    425\u001b[0m     own_fid \u001b[38;5;241m=\u001b[39m \u001b[38;5;28;01mFalse\u001b[39;00m\n\u001b[0;32m    426\u001b[0m \u001b[38;5;28;01melse\u001b[39;00m:\n\u001b[1;32m--> 427\u001b[0m     fid \u001b[38;5;241m=\u001b[39m stack\u001b[38;5;241m.\u001b[39menter_context(\u001b[38;5;28;43mopen\u001b[39;49m\u001b[43m(\u001b[49m\u001b[43mos_fspath\u001b[49m\u001b[43m(\u001b[49m\u001b[43mfile\u001b[49m\u001b[43m)\u001b[49m\u001b[43m,\u001b[49m\u001b[43m \u001b[49m\u001b[38;5;124;43m\"\u001b[39;49m\u001b[38;5;124;43mrb\u001b[39;49m\u001b[38;5;124;43m\"\u001b[39;49m\u001b[43m)\u001b[49m)\n\u001b[0;32m    428\u001b[0m     own_fid \u001b[38;5;241m=\u001b[39m \u001b[38;5;28;01mTrue\u001b[39;00m\n\u001b[0;32m    430\u001b[0m \u001b[38;5;66;03m# Code to distinguish from NumPy binary files and pickles.\u001b[39;00m\n",
      "\u001b[1;31mFileNotFoundError\u001b[0m: [Errno 2] No such file or directory: 'PEMS_04/pems04.npz'"
     ]
    }
   ],
   "source": [
    "npz = np.load('PEMS_04/pems04.npz')"
   ]
  },
  {
   "cell_type": "code",
   "execution_count": null,
   "id": "5fb9c895",
   "metadata": {},
   "outputs": [],
   "source": [
    "df= pd.DataFrame(npz)"
   ]
  },
  {
   "cell_type": "code",
   "execution_count": null,
   "id": "c4bcc8e9",
   "metadata": {},
   "outputs": [],
   "source": [
    "data = npz['data']\n",
    "print(data)\n",
    "print(data.shape)"
   ]
  },
  {
   "cell_type": "code",
   "execution_count": null,
   "id": "a71b1c84",
   "metadata": {},
   "outputs": [],
   "source": [
    "data.shape"
   ]
  },
  {
   "cell_type": "code",
   "execution_count": null,
   "id": "ff4171ff",
   "metadata": {},
   "outputs": [],
   "source": [
    "#arr = np.array([[0.0 for _ in range(data.shape[0])] for i in range(data.shape[1])], dtype=float)\n",
    "arr = np.zeros((data.shape[1], data.shape[0]), dtype=float, order = 'F')\n",
    "arr"
   ]
  },
  {
   "cell_type": "code",
   "execution_count": null,
   "id": "1ca62ea0",
   "metadata": {},
   "outputs": [],
   "source": [
    "arr.shape"
   ]
  },
  {
   "cell_type": "code",
   "execution_count": null,
   "id": "e6dec583",
   "metadata": {},
   "outputs": [],
   "source": [
    "data[0].shape"
   ]
  },
  {
   "cell_type": "code",
   "execution_count": null,
   "id": "0f3c74a0",
   "metadata": {},
   "outputs": [],
   "source": [
    "len(data[0][0])"
   ]
  },
  {
   "cell_type": "code",
   "execution_count": null,
   "id": "38ebe108",
   "metadata": {},
   "outputs": [],
   "source": [
    "for time in range(len(data)):\n",
    "    for sensor in range(len(data[0])):\n",
    "        arr[sensor][time] = data[time][sensor][2]\n",
    "    \n",
    "arr"
   ]
  },
  {
   "cell_type": "code",
   "execution_count": null,
   "id": "2a89a266",
   "metadata": {},
   "outputs": [],
   "source": [
    "df = pd.DataFrame(arr)\n",
    "df"
   ]
  },
  {
   "cell_type": "code",
   "execution_count": null,
   "id": "46e1e601",
   "metadata": {},
   "outputs": [],
   "source": [
    "df.to_csv(\"PEMS_O4/PEMS_O4.csv\", index=False, header=False)"
   ]
  },
  {
   "cell_type": "markdown",
   "id": "8d10e5e6",
   "metadata": {},
   "source": [
    "GCN___DATA PREPROCESSING\n",
    "_______________________________________________________________________________________"
   ]
  },
  {
   "cell_type": "code",
   "execution_count": null,
   "id": "e0fc2f94",
   "metadata": {},
   "outputs": [],
   "source": [
    "no_of_sensors = data.shape[1]\n",
    "no_of_sensors"
   ]
  },
  {
   "cell_type": "code",
   "execution_count": null,
   "id": "fd2b44de",
   "metadata": {},
   "outputs": [],
   "source": [
    "data = pd.read_csv(\"PEMS_04/distance.csv\")\n"
   ]
  },
  {
   "cell_type": "code",
   "execution_count": null,
   "id": "081d1c7a",
   "metadata": {},
   "outputs": [],
   "source": [
    "arr = np.zeros((no_of_sensors, no_of_sensors), dtype=float)"
   ]
  },
  {
   "cell_type": "code",
   "execution_count": null,
   "id": "0d3a118a",
   "metadata": {},
   "outputs": [],
   "source": [
    "arr.shape"
   ]
  },
  {
   "cell_type": "code",
   "execution_count": null,
   "id": "b455983c",
   "metadata": {},
   "outputs": [],
   "source": [
    "for i in range(no_of_sensors):\n",
    "    if arr[data['from'][i]][data['to'][i]] > 0:\n",
    "        print(f\"duplicate entry found at {i} {arr[data['from'][i]][data['to'][i]]}\")\n",
    "    arr[data['from'][i]][data['to'][i]] = data['cost'][i]/1000\n",
    "    arr[data['to'][i]][data['from'][i]] = data['cost'][i]/1000\n",
    "\n",
    "arr"
   ]
  },
  {
   "cell_type": "code",
   "execution_count": null,
   "id": "26e34bd0",
   "metadata": {},
   "outputs": [],
   "source": [
    "dt = pd.DataFrame(arr)"
   ]
  },
  {
   "cell_type": "code",
   "execution_count": null,
   "id": "001d020f",
   "metadata": {},
   "outputs": [],
   "source": [
    "dt"
   ]
  },
  {
   "cell_type": "code",
   "execution_count": null,
   "id": "02c13ee8",
   "metadata": {},
   "outputs": [],
   "source": [
    "dt.to_csv('PEMS_O4/PEMS_04_GCN.csv',index=False, header=False)"
   ]
  },
  {
   "cell_type": "code",
   "execution_count": null,
   "id": "206664cf",
   "metadata": {},
   "outputs": [],
   "source": []
  }
 ],
 "metadata": {
  "kernelspec": {
   "display_name": "Python 3 (ipykernel)",
   "language": "python",
   "name": "python3"
  },
  "language_info": {
   "codemirror_mode": {
    "name": "ipython",
    "version": 3
   },
   "file_extension": ".py",
   "mimetype": "text/x-python",
   "name": "python",
   "nbconvert_exporter": "python",
   "pygments_lexer": "ipython3",
   "version": "3.9.13"
  }
 },
 "nbformat": 4,
 "nbformat_minor": 5
}
